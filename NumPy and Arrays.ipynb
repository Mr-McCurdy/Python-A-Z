{
 "cells": [
  {
   "cell_type": "code",
   "execution_count": 7,
   "id": "99c9b2ad",
   "metadata": {},
   "outputs": [],
   "source": [
    "#We can import packages in Python that contain specialized objects that are not available in the basic Python package.\n",
    "#One example of these packages is NumPy.\n",
    "import numpy as np\n",
    "#It's convention to give numpy the name 'np' as an abbreviation."
   ]
  },
  {
   "cell_type": "code",
   "execution_count": 8,
   "id": "27114e83",
   "metadata": {},
   "outputs": [],
   "source": [
    "#A great feature of numpy is its arrays. You can think of an array as a superpowered list. Let's create one.\n",
    "#First create a list.\n",
    "List = [23245, 27, 546, 215, -1234]"
   ]
  },
  {
   "cell_type": "code",
   "execution_count": 9,
   "id": "cdc7d453",
   "metadata": {},
   "outputs": [],
   "source": [
    "#Now lets use the list to create an array.\n",
    "Array = np.array(List)"
   ]
  },
  {
   "cell_type": "code",
   "execution_count": 10,
   "id": "8b2d7770",
   "metadata": {},
   "outputs": [
    {
     "name": "stdout",
     "output_type": "stream",
     "text": [
      "[23245    27   546   215 -1234]\n"
     ]
    }
   ],
   "source": [
    "#Let's print the array to see what it looks like\n",
    "print(Array)"
   ]
  },
  {
   "cell_type": "code",
   "execution_count": 13,
   "id": "850845a1",
   "metadata": {},
   "outputs": [
    {
     "name": "stdout",
     "output_type": "stream",
     "text": [
      "[1 2 3 4 5]\n"
     ]
    }
   ],
   "source": [
    "#We can also create an array from scratch like so.\n",
    "Array2 = np.array([1, 2, 3, 4, 5])\n",
    "print(Array2)"
   ]
  },
  {
   "cell_type": "code",
   "execution_count": 14,
   "id": "48b74426",
   "metadata": {},
   "outputs": [
    {
     "name": "stdout",
     "output_type": "stream",
     "text": [
      "3.0\n",
      "5\n",
      "1\n"
     ]
    }
   ],
   "source": [
    "#Keep in mind that arrays are only meant to be used with integer/float variables.\n",
    "#Arrays have built in functions that makes finding basic summary statistics very easy. For example...\n",
    "print(Array2.mean())\n",
    "print(Array2.max())\n",
    "print(Array2.min())"
   ]
  },
  {
   "cell_type": "code",
   "execution_count": 15,
   "id": "6e8378c7",
   "metadata": {},
   "outputs": [
    {
     "data": {
      "text/plain": [
       "array([3, 4])"
      ]
     },
     "execution_count": 15,
     "metadata": {},
     "output_type": "execute_result"
    }
   ],
   "source": [
    "#We can also slice arrays like we would slice lists. Like so...\n",
    "Array2[2:4]"
   ]
  },
  {
   "cell_type": "code",
   "execution_count": null,
   "id": "71bf1c7a",
   "metadata": {},
   "outputs": [],
   "source": []
  }
 ],
 "metadata": {
  "kernelspec": {
   "display_name": "Python 3 (ipykernel)",
   "language": "python",
   "name": "python3"
  },
  "language_info": {
   "codemirror_mode": {
    "name": "ipython",
    "version": 3
   },
   "file_extension": ".py",
   "mimetype": "text/x-python",
   "name": "python",
   "nbconvert_exporter": "python",
   "pygments_lexer": "ipython3",
   "version": "3.9.13"
  }
 },
 "nbformat": 4,
 "nbformat_minor": 5
}
